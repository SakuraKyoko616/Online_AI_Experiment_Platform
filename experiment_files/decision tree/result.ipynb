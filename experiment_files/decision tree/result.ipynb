{
 "cells": [
  {
   "cell_type": "code",
   "execution_count": null,
   "metadata": {},
   "outputs": [],
   "source": [
    "Please copy your result and paste here with your Studend ID"
   ]
  },
  {
   "cell_type": "markdown",
   "metadata": {},
   "source": [
    "Student ID：34180761\n",
    "Ratio: 0.75\n",
    "\n",
    "Classification Metrics:\n",
    "Accuracy: 0.7631578947368421\n",
    "Precision: 0.7732057416267942\n",
    "Recall: 0.7631578947368421\n",
    "F1 Score: 0.7688888888888888"
   ]
  }
 ],
 "metadata": {
  "language_info": {
   "name": "python"
  },
  "orig_nbformat": 4
 },
 "nbformat": 4,
 "nbformat_minor": 2
}
